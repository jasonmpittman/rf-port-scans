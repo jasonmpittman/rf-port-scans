{
 "cells": [
  {
   "cell_type": "code",
   "execution_count": null,
   "id": "0ed28e43",
   "metadata": {},
   "outputs": [],
   "source": [
    "import sys\n",
    "sys.executable"
   ]
  },
  {
   "cell_type": "code",
   "execution_count": 11,
   "id": "4703890c",
   "metadata": {},
   "outputs": [],
   "source": [
    "import numpy as np\n",
    "import pandas as pd\n",
    "from sklearn import datasets"
   ]
  },
  {
   "cell_type": "markdown",
   "id": "0f3528bc",
   "metadata": {},
   "source": []
  },
  {
   "cell_type": "code",
   "execution_count": 13,
   "id": "93481714",
   "metadata": {},
   "outputs": [],
   "source": [
    "from sklearn.ensemble import RandomForestClassifier\n",
    "partial_grid = {'n_estimators': [50,60,70,80,90,100],\n",
    "               'max_features': [2,3,4,5,6,7]}\n",
    "\n",
    "from sklearn.model_selection import GridSearchCV \n",
    "grid_search_rf = GridSearchCV(estimator=RandomForestClassifier(),\n",
    "                          param_grid=partial_grid,\n",
    "                          cv=10,\n",
    "                          verbose=True, n_jobs=-1)\n",
    "\n",
    "grid_search_results = grid_search_rf.fit(train_x, train_y)"
   ]
  },
  {
   "cell_type": "code",
   "execution_count": 3,
   "id": "61793e86",
   "metadata": {},
   "outputs": [],
   "source": []
  }
 ],
 "metadata": {
  "kernelspec": {
   "display_name": "venv",
   "language": "python",
   "name": "venv"
  },
  "language_info": {
   "codemirror_mode": {
    "name": "ipython",
    "version": 3
   },
   "file_extension": ".py",
   "mimetype": "text/x-python",
   "name": "python",
   "nbconvert_exporter": "python",
   "pygments_lexer": "ipython3",
   "version": "3.11.1"
  }
 },
 "nbformat": 4,
 "nbformat_minor": 5
}
