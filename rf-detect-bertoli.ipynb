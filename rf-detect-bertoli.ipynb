{
 "cells": [
  {
   "cell_type": "markdown",
   "id": "e3d543ae",
   "metadata": {},
   "source": [
    "#### make sure we're running the correct virtual environment"
   ]
  },
  {
   "cell_type": "code",
   "execution_count": null,
   "id": "e25e9166",
   "metadata": {},
   "outputs": [],
   "source": [
    "import sys\n",
    "sys.executable"
   ]
  },
  {
   "cell_type": "markdown",
   "id": "69271222",
   "metadata": {},
   "source": [
    "#### imports to build the Random Forest ensemble classifier"
   ]
  },
  {
   "cell_type": "code",
   "execution_count": 72,
   "id": "af49f76c",
   "metadata": {},
   "outputs": [],
   "source": [
    "import pandas as pd\n",
    "import numpy as np\n",
    "from sklearn.preprocessing import StandardScaler\n",
    "from sklearn.naive_bayes import GaussianNB\n",
    "from sklearn.linear_model import LogisticRegression\n",
    "from sklearn.ensemble import RandomForestClassifier\n",
    "from sklearn.metrics import accuracy_score\n",
    "from sklearn.model_selection import StratifiedKFold, GridSearchCV\n",
    "from sklearn.metrics import accuracy_score, make_scorer, f1_score, roc_auc_score\n",
    "\n",
    "#supress warnings\n",
    "import warnings\n",
    "warnings.filterwarnings('ignore')"
   ]
  },
  {
   "cell_type": "markdown",
   "id": "86575eaa",
   "metadata": {},
   "source": [
    "#### load the LAN datasets"
   ]
  },
  {
   "cell_type": "code",
   "execution_count": 73,
   "id": "7a9615cc",
   "metadata": {},
   "outputs": [
    {
     "name": "stdout",
     "output_type": "stream",
     "text": [
      "(86480, 41) (103094, 41)\n"
     ]
    }
   ],
   "source": [
    "df = pd.read_csv(\"data/bertoli_lan_attack_dataset.csv\") # attack dataset\n",
    "attack_classes = pd.read_csv(\"data/bertoli_lan_attack_labels_sbseg.csv\") # labels\n",
    "bonafide = pd.read_csv('data/bertoli_lan_bonafide_dataset_20191121.csv.gz') # bonafide dataset\n",
    "print(df.shape, bonafide.shape)"
   ]
  },
  {
   "cell_type": "code",
   "execution_count": 74,
   "id": "79f3554c",
   "metadata": {},
   "outputs": [
    {
     "data": {
      "text/html": [
       "<div>\n",
       "<style scoped>\n",
       "    .dataframe tbody tr th:only-of-type {\n",
       "        vertical-align: middle;\n",
       "    }\n",
       "\n",
       "    .dataframe tbody tr th {\n",
       "        vertical-align: top;\n",
       "    }\n",
       "\n",
       "    .dataframe thead th {\n",
       "        text-align: right;\n",
       "    }\n",
       "</style>\n",
       "<table border=\"1\" class=\"dataframe\">\n",
       "  <thead>\n",
       "    <tr style=\"text-align: right;\">\n",
       "      <th></th>\n",
       "      <th>frame_info.encap_type</th>\n",
       "      <th>frame_info.time</th>\n",
       "      <th>frame_info.time_epoch</th>\n",
       "      <th>frame_info.number</th>\n",
       "      <th>frame_info.len</th>\n",
       "      <th>frame_info.cap_len</th>\n",
       "      <th>eth.type</th>\n",
       "      <th>ip.version</th>\n",
       "      <th>ip.hdr_len</th>\n",
       "      <th>ip.tos</th>\n",
       "      <th>...</th>\n",
       "      <th>tcp.flags.reset</th>\n",
       "      <th>tcp.flags.push</th>\n",
       "      <th>tcp.flags.ack</th>\n",
       "      <th>tcp.flags.urg</th>\n",
       "      <th>tcp.flags.cwr</th>\n",
       "      <th>tcp.window_size</th>\n",
       "      <th>tcp.checksum</th>\n",
       "      <th>tcp.urgent_pointer</th>\n",
       "      <th>tcp.options.mss_val</th>\n",
       "      <th>label</th>\n",
       "    </tr>\n",
       "  </thead>\n",
       "  <tbody>\n",
       "    <tr>\n",
       "      <th>0</th>\n",
       "      <td>1</td>\n",
       "      <td>Dec 31, 1969 21:03:41.953641000 -03</td>\n",
       "      <td>221.953641</td>\n",
       "      <td>20</td>\n",
       "      <td>58</td>\n",
       "      <td>58</td>\n",
       "      <td>0x00000800</td>\n",
       "      <td>4</td>\n",
       "      <td>20</td>\n",
       "      <td>NaN</td>\n",
       "      <td>...</td>\n",
       "      <td>0</td>\n",
       "      <td>0</td>\n",
       "      <td>0</td>\n",
       "      <td>0</td>\n",
       "      <td>0</td>\n",
       "      <td>1024</td>\n",
       "      <td>0x00005cb1</td>\n",
       "      <td>0</td>\n",
       "      <td>1460.0</td>\n",
       "      <td>nmap_tcp_syn</td>\n",
       "    </tr>\n",
       "    <tr>\n",
       "      <th>1</th>\n",
       "      <td>1</td>\n",
       "      <td>Dec 31, 1969 21:03:41.953762000 -03</td>\n",
       "      <td>221.953762</td>\n",
       "      <td>21</td>\n",
       "      <td>58</td>\n",
       "      <td>58</td>\n",
       "      <td>0x00000800</td>\n",
       "      <td>4</td>\n",
       "      <td>20</td>\n",
       "      <td>NaN</td>\n",
       "      <td>...</td>\n",
       "      <td>0</td>\n",
       "      <td>0</td>\n",
       "      <td>0</td>\n",
       "      <td>0</td>\n",
       "      <td>0</td>\n",
       "      <td>1024</td>\n",
       "      <td>0x00007d1e</td>\n",
       "      <td>0</td>\n",
       "      <td>1460.0</td>\n",
       "      <td>nmap_tcp_syn</td>\n",
       "    </tr>\n",
       "  </tbody>\n",
       "</table>\n",
       "<p>2 rows × 42 columns</p>\n",
       "</div>"
      ],
      "text/plain": [
       "   frame_info.encap_type                      frame_info.time  \\\n",
       "0                      1  Dec 31, 1969 21:03:41.953641000 -03   \n",
       "1                      1  Dec 31, 1969 21:03:41.953762000 -03   \n",
       "\n",
       "   frame_info.time_epoch  frame_info.number  frame_info.len  \\\n",
       "0             221.953641                 20              58   \n",
       "1             221.953762                 21              58   \n",
       "\n",
       "   frame_info.cap_len    eth.type  ip.version  ip.hdr_len  ip.tos  ...  \\\n",
       "0                  58  0x00000800           4          20     NaN  ...   \n",
       "1                  58  0x00000800           4          20     NaN  ...   \n",
       "\n",
       "  tcp.flags.reset tcp.flags.push  tcp.flags.ack  tcp.flags.urg  tcp.flags.cwr  \\\n",
       "0               0              0              0              0              0   \n",
       "1               0              0              0              0              0   \n",
       "\n",
       "   tcp.window_size  tcp.checksum  tcp.urgent_pointer tcp.options.mss_val  \\\n",
       "0             1024    0x00005cb1                   0              1460.0   \n",
       "1             1024    0x00007d1e                   0              1460.0   \n",
       "\n",
       "          label  \n",
       "0  nmap_tcp_syn  \n",
       "1  nmap_tcp_syn  \n",
       "\n",
       "[2 rows x 42 columns]"
      ]
     },
     "execution_count": 74,
     "metadata": {},
     "output_type": "execute_result"
    }
   ],
   "source": [
    "df_labeled = df.merge(attack_classes, how='inner', left_on='ip.src', right_on='ip')\n",
    "df_labeled.drop(['ip'], axis=1, inplace=True)\n",
    "df_labeled.head(2)"
   ]
  },
  {
   "cell_type": "code",
   "execution_count": 75,
   "id": "d8648647",
   "metadata": {},
   "outputs": [],
   "source": [
    "bonafide['label'] = \"bonafide\" # create column label on bonafide dataset"
   ]
  },
  {
   "cell_type": "code",
   "execution_count": 76,
   "id": "b5329adf",
   "metadata": {},
   "outputs": [],
   "source": [
    "fields = ['eth.type', 'ip.id', 'ip.flags', 'ip.checksum', 'ip.dsfield', 'tcp.flags', 'tcp.checksum']\n",
    "\n",
    "for field in fields:\n",
    "    df_labeled[field] = df_labeled[field].apply(lambda x: int(str(x), 16))\n",
    "    \n",
    "bonafide = bonafide.fillna(0)\n",
    "for field in fields:\n",
    "    bonafide[field] = bonafide[field].apply(lambda x: int(str(x), 16))\n",
    "\n",
    "full_data = pd.concat([bonafide, df_labeled])"
   ]
  },
  {
   "cell_type": "markdown",
   "id": "896d7e26",
   "metadata": {},
   "source": [
    "#### clean the data"
   ]
  },
  {
   "cell_type": "code",
   "execution_count": 77,
   "id": "bfa419f5",
   "metadata": {},
   "outputs": [
    {
     "name": "stdout",
     "output_type": "stream",
     "text": [
      "It was found and removed [11708] packets.\n"
     ]
    }
   ],
   "source": [
    "# we only want TCP or IP flag 6\n",
    "wrong_proto = full_data[full_data['ip.proto'] != 6]['label'].value_counts().values\n",
    "full_data = full_data[full_data['ip.proto'] == 6]\n",
    "print(\"It was found and removed\", wrong_proto,\"packets.\")\n",
    "\n",
    "# remove unnecessary fields\n",
    "full_data.drop(columns=['frame_info.time', 'frame_info.encap_type', 'frame_info.time_epoch', 'frame_info.number', \n",
    "                        'frame_info.len', 'frame_info.cap_len', 'eth.type', 'ip.flags', 'ip.src', 'ip.dst',\n",
    "                        'ip.version', 'ip.proto', 'tcp.flags'], axis=1, inplace=True)\n",
    "\n",
    "full_data.drop(columns=['ip.hdr_len', 'ip.tos', 'ip.flags.rb', \n",
    "                        'ip.flags.mf', 'ip.frag_offset'], axis=1, inplace=True) #should combine with above"
   ]
  },
  {
   "cell_type": "markdown",
   "id": "a4519249",
   "metadata": {},
   "source": [
    "#### initialize the random forest classifier"
   ]
  },
  {
   "cell_type": "code",
   "execution_count": 90,
   "id": "06363e2b",
   "metadata": {},
   "outputs": [],
   "source": [
    "algorithms = {\n",
    "    #\"NB\" : (GaussianNB(), {}),\n",
    "    #\"LR\" : (LogisticRegression(), {}),\n",
    "    'RF': (RandomForestClassifier(random_state=17, n_jobs=-1), {\n",
    "            \"n_estimators\" : [10, 50, 100, 200],\n",
    "            \"criterion\" : (\"gini\", \"entropy\"), \n",
    "            \"max_depth\": [5, 10],\n",
    "            \"class_weight\": (None, \"balanced\", \"balanced_subsample\")\n",
    "    })\n",
    "}"
   ]
  },
  {
   "cell_type": "code",
   "execution_count": 91,
   "id": "69dc1e6f",
   "metadata": {},
   "outputs": [
    {
     "name": "stdout",
     "output_type": "stream",
     "text": [
      "(113759, 23) (113759,)\n"
     ]
    }
   ],
   "source": [
    "full_data = full_data.fillna(0)\n",
    "X = full_data.drop(columns = [\"label\"])\n",
    "y = full_data.label\n",
    "\n",
    "print(X.shape, y.shape)"
   ]
  },
  {
   "cell_type": "code",
   "execution_count": 95,
   "id": "fe2c5b65",
   "metadata": {},
   "outputs": [
    {
     "name": "stdout",
     "output_type": "stream",
     "text": [
      "RF\n"
     ]
    },
    {
     "ename": "ValueError",
     "evalue": "The truth value of a Series is ambiguous. Use a.empty, a.bool(), a.item(), a.any() or a.all().",
     "output_type": "error",
     "traceback": [
      "\u001b[0;31m---------------------------------------------------------------------------\u001b[0m",
      "\u001b[0;31mValueError\u001b[0m                                Traceback (most recent call last)",
      "Cell \u001b[0;32mIn[95], line 17\u001b[0m\n\u001b[1;32m     15\u001b[0m best \u001b[38;5;241m=\u001b[39m GridSearchCV(clf, parameters, cv\u001b[38;5;241m=\u001b[39mgskf, scoring\u001b[38;5;241m=\u001b[39mmake_scorer(perf)) \u001b[38;5;66;03m#perf is modified here\u001b[39;00m\n\u001b[1;32m     16\u001b[0m best\u001b[38;5;241m.\u001b[39mfit(prep\u001b[38;5;241m.\u001b[39mtransform(X\u001b[38;5;241m.\u001b[39miloc[train]), y\u001b[38;5;241m.\u001b[39miloc[train])\n\u001b[0;32m---> 17\u001b[0m trans \u001b[38;5;241m=\u001b[39m \u001b[43mprep\u001b[49m\u001b[38;5;241;43m.\u001b[39;49m\u001b[43mtransform\u001b[49m\u001b[43m(\u001b[49m\u001b[43mX\u001b[49m\u001b[38;5;241;43m.\u001b[39;49m\u001b[43miloc\u001b[49m\u001b[43m[\u001b[49m\u001b[43mtest\u001b[49m\u001b[43m]\u001b[49m\u001b[43m,\u001b[49m\u001b[43m \u001b[49m\u001b[43my\u001b[49m\u001b[38;5;241;43m.\u001b[39;49m\u001b[43miloc\u001b[49m\u001b[43m[\u001b[49m\u001b[43mtest\u001b[49m\u001b[43m]\u001b[49m\u001b[43m)\u001b[49m\n\u001b[1;32m     18\u001b[0m score[algorithm]\u001b[38;5;241m.\u001b[39mappend(perf(best\u001b[38;5;241m.\u001b[39mpredict(trans)))\n",
      "File \u001b[0;32m~/Repositories/rf-port-scans/venv/lib/python3.11/site-packages/sklearn/utils/_set_output.py:142\u001b[0m, in \u001b[0;36m_wrap_method_output.<locals>.wrapped\u001b[0;34m(self, X, *args, **kwargs)\u001b[0m\n\u001b[1;32m    140\u001b[0m \u001b[38;5;129m@wraps\u001b[39m(f)\n\u001b[1;32m    141\u001b[0m \u001b[38;5;28;01mdef\u001b[39;00m \u001b[38;5;21mwrapped\u001b[39m(\u001b[38;5;28mself\u001b[39m, X, \u001b[38;5;241m*\u001b[39margs, \u001b[38;5;241m*\u001b[39m\u001b[38;5;241m*\u001b[39mkwargs):\n\u001b[0;32m--> 142\u001b[0m     data_to_wrap \u001b[38;5;241m=\u001b[39m \u001b[43mf\u001b[49m\u001b[43m(\u001b[49m\u001b[38;5;28;43mself\u001b[39;49m\u001b[43m,\u001b[49m\u001b[43m \u001b[49m\u001b[43mX\u001b[49m\u001b[43m,\u001b[49m\u001b[43m \u001b[49m\u001b[38;5;241;43m*\u001b[39;49m\u001b[43margs\u001b[49m\u001b[43m,\u001b[49m\u001b[43m \u001b[49m\u001b[38;5;241;43m*\u001b[39;49m\u001b[38;5;241;43m*\u001b[39;49m\u001b[43mkwargs\u001b[49m\u001b[43m)\u001b[49m\n\u001b[1;32m    143\u001b[0m     \u001b[38;5;28;01mif\u001b[39;00m \u001b[38;5;28misinstance\u001b[39m(data_to_wrap, \u001b[38;5;28mtuple\u001b[39m):\n\u001b[1;32m    144\u001b[0m         \u001b[38;5;66;03m# only wrap the first output for cross decomposition\u001b[39;00m\n\u001b[1;32m    145\u001b[0m         \u001b[38;5;28;01mreturn\u001b[39;00m (\n\u001b[1;32m    146\u001b[0m             _wrap_data_with_container(method, data_to_wrap[\u001b[38;5;241m0\u001b[39m], X, \u001b[38;5;28mself\u001b[39m),\n\u001b[1;32m    147\u001b[0m             \u001b[38;5;241m*\u001b[39mdata_to_wrap[\u001b[38;5;241m1\u001b[39m:],\n\u001b[1;32m    148\u001b[0m         )\n",
      "File \u001b[0;32m~/Repositories/rf-port-scans/venv/lib/python3.11/site-packages/sklearn/preprocessing/_data.py:992\u001b[0m, in \u001b[0;36mStandardScaler.transform\u001b[0;34m(self, X, copy)\u001b[0m\n\u001b[1;32m    989\u001b[0m check_is_fitted(\u001b[38;5;28mself\u001b[39m)\n\u001b[1;32m    991\u001b[0m copy \u001b[38;5;241m=\u001b[39m copy \u001b[38;5;28;01mif\u001b[39;00m copy \u001b[38;5;129;01mis\u001b[39;00m \u001b[38;5;129;01mnot\u001b[39;00m \u001b[38;5;28;01mNone\u001b[39;00m \u001b[38;5;28;01melse\u001b[39;00m \u001b[38;5;28mself\u001b[39m\u001b[38;5;241m.\u001b[39mcopy\n\u001b[0;32m--> 992\u001b[0m X \u001b[38;5;241m=\u001b[39m \u001b[38;5;28;43mself\u001b[39;49m\u001b[38;5;241;43m.\u001b[39;49m\u001b[43m_validate_data\u001b[49m\u001b[43m(\u001b[49m\n\u001b[1;32m    993\u001b[0m \u001b[43m    \u001b[49m\u001b[43mX\u001b[49m\u001b[43m,\u001b[49m\n\u001b[1;32m    994\u001b[0m \u001b[43m    \u001b[49m\u001b[43mreset\u001b[49m\u001b[38;5;241;43m=\u001b[39;49m\u001b[38;5;28;43;01mFalse\u001b[39;49;00m\u001b[43m,\u001b[49m\n\u001b[1;32m    995\u001b[0m \u001b[43m    \u001b[49m\u001b[43maccept_sparse\u001b[49m\u001b[38;5;241;43m=\u001b[39;49m\u001b[38;5;124;43m\"\u001b[39;49m\u001b[38;5;124;43mcsr\u001b[39;49m\u001b[38;5;124;43m\"\u001b[39;49m\u001b[43m,\u001b[49m\n\u001b[1;32m    996\u001b[0m \u001b[43m    \u001b[49m\u001b[43mcopy\u001b[49m\u001b[38;5;241;43m=\u001b[39;49m\u001b[43mcopy\u001b[49m\u001b[43m,\u001b[49m\n\u001b[1;32m    997\u001b[0m \u001b[43m    \u001b[49m\u001b[43mdtype\u001b[49m\u001b[38;5;241;43m=\u001b[39;49m\u001b[43mFLOAT_DTYPES\u001b[49m\u001b[43m,\u001b[49m\n\u001b[1;32m    998\u001b[0m \u001b[43m    \u001b[49m\u001b[43mforce_all_finite\u001b[49m\u001b[38;5;241;43m=\u001b[39;49m\u001b[38;5;124;43m\"\u001b[39;49m\u001b[38;5;124;43mallow-nan\u001b[39;49m\u001b[38;5;124;43m\"\u001b[39;49m\u001b[43m,\u001b[49m\n\u001b[1;32m    999\u001b[0m \u001b[43m\u001b[49m\u001b[43m)\u001b[49m\n\u001b[1;32m   1001\u001b[0m \u001b[38;5;28;01mif\u001b[39;00m sparse\u001b[38;5;241m.\u001b[39missparse(X):\n\u001b[1;32m   1002\u001b[0m     \u001b[38;5;28;01mif\u001b[39;00m \u001b[38;5;28mself\u001b[39m\u001b[38;5;241m.\u001b[39mwith_mean:\n",
      "File \u001b[0;32m~/Repositories/rf-port-scans/venv/lib/python3.11/site-packages/sklearn/base.py:546\u001b[0m, in \u001b[0;36mBaseEstimator._validate_data\u001b[0;34m(self, X, y, reset, validate_separately, **check_params)\u001b[0m\n\u001b[1;32m    544\u001b[0m     \u001b[38;5;28;01mraise\u001b[39;00m \u001b[38;5;167;01mValueError\u001b[39;00m(\u001b[38;5;124m\"\u001b[39m\u001b[38;5;124mValidation should be done on X, y or both.\u001b[39m\u001b[38;5;124m\"\u001b[39m)\n\u001b[1;32m    545\u001b[0m \u001b[38;5;28;01melif\u001b[39;00m \u001b[38;5;129;01mnot\u001b[39;00m no_val_X \u001b[38;5;129;01mand\u001b[39;00m no_val_y:\n\u001b[0;32m--> 546\u001b[0m     X \u001b[38;5;241m=\u001b[39m \u001b[43mcheck_array\u001b[49m\u001b[43m(\u001b[49m\u001b[43mX\u001b[49m\u001b[43m,\u001b[49m\u001b[43m \u001b[49m\u001b[43minput_name\u001b[49m\u001b[38;5;241;43m=\u001b[39;49m\u001b[38;5;124;43m\"\u001b[39;49m\u001b[38;5;124;43mX\u001b[39;49m\u001b[38;5;124;43m\"\u001b[39;49m\u001b[43m,\u001b[49m\u001b[43m \u001b[49m\u001b[38;5;241;43m*\u001b[39;49m\u001b[38;5;241;43m*\u001b[39;49m\u001b[43mcheck_params\u001b[49m\u001b[43m)\u001b[49m\n\u001b[1;32m    547\u001b[0m     out \u001b[38;5;241m=\u001b[39m X\n\u001b[1;32m    548\u001b[0m \u001b[38;5;28;01melif\u001b[39;00m no_val_X \u001b[38;5;129;01mand\u001b[39;00m \u001b[38;5;129;01mnot\u001b[39;00m no_val_y:\n",
      "File \u001b[0;32m~/Repositories/rf-port-scans/venv/lib/python3.11/site-packages/sklearn/utils/validation.py:946\u001b[0m, in \u001b[0;36mcheck_array\u001b[0;34m(array, accept_sparse, accept_large_sparse, dtype, order, copy, force_all_finite, ensure_2d, allow_nd, ensure_min_samples, ensure_min_features, estimator, input_name)\u001b[0m\n\u001b[1;32m    939\u001b[0m     \u001b[38;5;28;01mif\u001b[39;00m n_features \u001b[38;5;241m<\u001b[39m ensure_min_features:\n\u001b[1;32m    940\u001b[0m         \u001b[38;5;28;01mraise\u001b[39;00m \u001b[38;5;167;01mValueError\u001b[39;00m(\n\u001b[1;32m    941\u001b[0m             \u001b[38;5;124m\"\u001b[39m\u001b[38;5;124mFound array with \u001b[39m\u001b[38;5;132;01m%d\u001b[39;00m\u001b[38;5;124m feature(s) (shape=\u001b[39m\u001b[38;5;132;01m%s\u001b[39;00m\u001b[38;5;124m) while\u001b[39m\u001b[38;5;124m\"\u001b[39m\n\u001b[1;32m    942\u001b[0m             \u001b[38;5;124m\"\u001b[39m\u001b[38;5;124m a minimum of \u001b[39m\u001b[38;5;132;01m%d\u001b[39;00m\u001b[38;5;124m is required\u001b[39m\u001b[38;5;132;01m%s\u001b[39;00m\u001b[38;5;124m.\u001b[39m\u001b[38;5;124m\"\u001b[39m\n\u001b[1;32m    943\u001b[0m             \u001b[38;5;241m%\u001b[39m (n_features, array\u001b[38;5;241m.\u001b[39mshape, ensure_min_features, context)\n\u001b[1;32m    944\u001b[0m         )\n\u001b[0;32m--> 946\u001b[0m \u001b[38;5;28;01mif\u001b[39;00m copy:\n\u001b[1;32m    947\u001b[0m     \u001b[38;5;28;01mif\u001b[39;00m xp\u001b[38;5;241m.\u001b[39m\u001b[38;5;18m__name__\u001b[39m \u001b[38;5;129;01min\u001b[39;00m {\u001b[38;5;124m\"\u001b[39m\u001b[38;5;124mnumpy\u001b[39m\u001b[38;5;124m\"\u001b[39m, \u001b[38;5;124m\"\u001b[39m\u001b[38;5;124mnumpy.array_api\u001b[39m\u001b[38;5;124m\"\u001b[39m}:\n\u001b[1;32m    948\u001b[0m         \u001b[38;5;66;03m# only make a copy if `array` and `array_orig` may share memory`\u001b[39;00m\n\u001b[1;32m    949\u001b[0m         \u001b[38;5;28;01mif\u001b[39;00m np\u001b[38;5;241m.\u001b[39mmay_share_memory(array, array_orig):\n",
      "File \u001b[0;32m~/Repositories/rf-port-scans/venv/lib/python3.11/site-packages/pandas/core/generic.py:1527\u001b[0m, in \u001b[0;36mNDFrame.__nonzero__\u001b[0;34m(self)\u001b[0m\n\u001b[1;32m   1525\u001b[0m \u001b[38;5;129m@final\u001b[39m\n\u001b[1;32m   1526\u001b[0m \u001b[38;5;28;01mdef\u001b[39;00m \u001b[38;5;21m__nonzero__\u001b[39m(\u001b[38;5;28mself\u001b[39m) \u001b[38;5;241m-\u001b[39m\u001b[38;5;241m>\u001b[39m NoReturn:\n\u001b[0;32m-> 1527\u001b[0m     \u001b[38;5;28;01mraise\u001b[39;00m \u001b[38;5;167;01mValueError\u001b[39;00m(\n\u001b[1;32m   1528\u001b[0m         \u001b[38;5;124mf\u001b[39m\u001b[38;5;124m\"\u001b[39m\u001b[38;5;124mThe truth value of a \u001b[39m\u001b[38;5;132;01m{\u001b[39;00m\u001b[38;5;28mtype\u001b[39m(\u001b[38;5;28mself\u001b[39m)\u001b[38;5;241m.\u001b[39m\u001b[38;5;18m__name__\u001b[39m\u001b[38;5;132;01m}\u001b[39;00m\u001b[38;5;124m is ambiguous. \u001b[39m\u001b[38;5;124m\"\u001b[39m\n\u001b[1;32m   1529\u001b[0m         \u001b[38;5;124m\"\u001b[39m\u001b[38;5;124mUse a.empty, a.bool(), a.item(), a.any() or a.all().\u001b[39m\u001b[38;5;124m\"\u001b[39m\n\u001b[1;32m   1530\u001b[0m     )\n",
      "\u001b[0;31mValueError\u001b[0m: The truth value of a Series is ambiguous. Use a.empty, a.bool(), a.item(), a.any() or a.all()."
     ]
    }
   ],
   "source": [
    "kf = StratifiedKFold(n_splits=10, shuffle=True, random_state=17) # Train, Test\n",
    "gskf = StratifiedKFold(n_splits=3, shuffle=True, random_state=17) # Validation\n",
    "#perf = f1_score # can be used roc_auc_score for binary classification\n",
    "perf = make_scorer(f1_score, average='micro') #changed this from just f1_score\n",
    "\n",
    "score = {}\n",
    "for algorithm in algorithms.keys():\n",
    "    score[algorithm] = []\n",
    "\n",
    "    for algorithm, (clf, parameters) in algorithms.items():\n",
    "        print(algorithm)\n",
    "        for train, test in kf.split(X, y):\n",
    "            prep = StandardScaler()\n",
    "            prep.fit(X.iloc[train])\n",
    "            best = GridSearchCV(clf, parameters, cv=gskf, scoring=make_scorer(perf)) #perf is modified here\n",
    "            best.fit(prep.transform(X.iloc[train]), y.iloc[train])\n",
    "            trans = prep.transform(X.iloc[test], y.iloc[test])\n",
    "            score[algorithm].append(perf(best.predict(trans)))"
   ]
  },
  {
   "cell_type": "code",
   "execution_count": 69,
   "id": "f4a6ef37",
   "metadata": {},
   "outputs": [],
   "source": [
    "# write the full_data out so we don't have to preprocess the data files...\n",
    "#full_data.to_csv('full_data.csv', index=False)"
   ]
  },
  {
   "cell_type": "markdown",
   "id": "69c291b2",
   "metadata": {},
   "source": [
    "#### fit the model to the training data"
   ]
  },
  {
   "cell_type": "code",
   "execution_count": null,
   "id": "bb1a1dd2",
   "metadata": {},
   "outputs": [],
   "source": [
    "random_forest_classifier(x, y)"
   ]
  },
  {
   "cell_type": "markdown",
   "id": "7b7ea3e0",
   "metadata": {},
   "source": [
    "#### generate predictions based on training"
   ]
  },
  {
   "cell_type": "code",
   "execution_count": null,
   "id": "a5c70f2f",
   "metadata": {},
   "outputs": [],
   "source": [
    "y_pred_RF = RF_clf.predict(X_test_scaled)"
   ]
  },
  {
   "cell_type": "markdown",
   "id": "4464face",
   "metadata": {},
   "source": [
    "#### measure prediction accuracy"
   ]
  },
  {
   "cell_type": "code",
   "execution_count": null,
   "id": "dbbef481",
   "metadata": {},
   "outputs": [],
   "source": [
    "print(accuracy_score(y_test, y_pred_RF))"
   ]
  },
  {
   "cell_type": "code",
   "execution_count": null,
   "id": "b4a22997",
   "metadata": {},
   "outputs": [],
   "source": [
    "pd.DataFrame.from_dict(score)"
   ]
  }
 ],
 "metadata": {
  "kernelspec": {
   "display_name": "venv",
   "language": "python",
   "name": "venv"
  },
  "language_info": {
   "codemirror_mode": {
    "name": "ipython",
    "version": 3
   },
   "file_extension": ".py",
   "mimetype": "text/x-python",
   "name": "python",
   "nbconvert_exporter": "python",
   "pygments_lexer": "ipython3",
   "version": "3.11.1"
  }
 },
 "nbformat": 4,
 "nbformat_minor": 5
}
