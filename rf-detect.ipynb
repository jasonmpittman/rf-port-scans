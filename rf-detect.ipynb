{
 "cells": [
  {
   "cell_type": "code",
   "execution_count": null,
   "id": "96a9ef00",
   "metadata": {},
   "outputs": [],
   "source": [
    "import sys\n",
    "sys.executable"
   ]
  },
  {
   "cell_type": "code",
   "execution_count": null,
   "id": "8f337b20",
   "metadata": {},
   "outputs": [],
   "source": [
    "import pandas as pd\n",
    "import numpy as np\n",
    "\n",
    "from sklearn.ensemble import RandomForestClassifier\n",
    "from sklearn.model_selection import train_test_split\n",
    "from sklearn.model_selection import StratifiedKFold, GridSearchCV, RandomizedSearchCV\n",
    "from sklearn.metrics import accuracy_score, make_scorer, f1_score, roc_auc_score\n",
    "\n",
    "#supress warnings\n",
    "import warnings\n",
    "warnings.filterwarnings('ignore')"
   ]
  },
  {
   "cell_type": "code",
   "execution_count": null,
   "id": "e310069e",
   "metadata": {},
   "outputs": [],
   "source": [
    "full_data = pd.read_csv(\"full_data.csv\")\n",
    "\n",
    "full_data = full_data.fillna(0)\n",
    "X = full_data.drop(columns = [\"label\"])\n",
    "y = full_data.label\n",
    "\n",
    "print(X.shape, y.shape)"
   ]
  },
  {
   "cell_type": "code",
   "execution_count": null,
   "id": "c8ab53f2",
   "metadata": {},
   "outputs": [],
   "source": [
    "X_train, X_test, y_train, y_test = train_test_split(X, y, test_size=0.3)"
   ]
  },
  {
   "cell_type": "markdown",
   "id": "6a723101",
   "metadata": {},
   "source": [
    "Hyperparameter Set A"
   ]
  },
  {
   "cell_type": "code",
   "execution_count": null,
   "id": "ab4e1d1b",
   "metadata": {},
   "outputs": [],
   "source": [
    "params = { \n",
    "    'n_estimators': [10, 50, 100, 200],\n",
    "    'max_features': ['sqrt'],\n",
    "    'max_depth' : [5,10],\n",
    "    'criterion' :['gini'],\n",
    "    \"class_weight\": (None, \"balanced\")\n",
    "}\n",
    "\n",
    "# standard RandomizedSearchCV for comparison\n",
    "clf_random = RandomizedSearchCV(estimator = RandomForestClassifier(), \n",
    "                                param_distributions = params, \n",
    "                                n_iter = 100, \n",
    "                                cv = StratifiedKFold(n_splits=10),\n",
    "                                verbose=2, random_state=42, n_jobs = -1)\n",
    "\n",
    "# modified GridSearchCV from Bertoli et al. 2021\n",
    "clf_grid = GridSearchCV(estimator = RandomForestClassifier(),\n",
    "                       param_grid = params,\n",
    "                       scoring = 'accuracy',\n",
    "                       cv = StratifiedKFold(n_splits=10, shuffle=True, random_state=17))\n",
    "\n",
    "# training the model\n",
    "train_rand = clf_random.fit(X_train, y_train)\n",
    "train_grid = clf_grid.fit(X_train, y_train)\n",
    "\n",
    "# testing the model\n",
    "test_rand = clf_random.score(X_test, y_test)\n",
    "\n",
    "test_grid = clf_grid.score(X_test, y_test)"
   ]
  },
  {
   "cell_type": "code",
   "execution_count": null,
   "id": "b67b57bf",
   "metadata": {},
   "outputs": [],
   "source": [
    "# Make predictions for the test sets\n",
    "y_rand_test = clf_random.predict(X_test)\n",
    "y_grid_test = clf_grid.predict(X_test)\n",
    "\n",
    "# View accuracy scores\n",
    "rand_score = accuracy_score(y_test, y_rand_test)\n",
    "print(rand_score)\n",
    "\n",
    "grid_score = accuracy_score(y_test, y_grid_test)\n",
    "print(grid_score)"
   ]
  },
  {
   "cell_type": "code",
   "execution_count": null,
   "id": "23623980",
   "metadata": {},
   "outputs": [],
   "source": [
    "from sklearn.metrics import classification_report\n",
    "\n",
    "# View the classification report for test data and predictions for random search\n",
    "print(classification_report(y_test, y_rand_test))\n",
    "\n",
    "# View the classification report for test data and predictions for grid search\n",
    "print(classification_report(y_test, y_grid_test))"
   ]
  },
  {
   "cell_type": "markdown",
   "id": "0582c599",
   "metadata": {},
   "source": [
    "Hyperparameter Set B"
   ]
  },
  {
   "cell_type": "code",
   "execution_count": null,
   "id": "733469e4",
   "metadata": {},
   "outputs": [],
   "source": [
    "params = { \n",
    "    'n_estimators': [15, 25, 50, 100],\n",
    "    'max_features': ['sqrt'],\n",
    "    'max_depth' : [5,10],\n",
    "    'criterion' :['gini'],\n",
    "    \"class_weight\": (None, \"balanced\")\n",
    "}\n",
    "\n",
    "# standard RandomizedSearchCV for comparison\n",
    "clf_random = RandomizedSearchCV(estimator = RandomForestClassifier(), \n",
    "                                param_distributions = params, \n",
    "                                n_iter = 100, \n",
    "                                cv = StratifiedKFold(n_splits=10),\n",
    "                                verbose=2, random_state=42, n_jobs = -1)\n",
    "\n",
    "# modified GridSearchCV from Bertoli et al. 2021\n",
    "clf_grid = GridSearchCV(estimator = RandomForestClassifier(),\n",
    "                       param_grid = params,\n",
    "                       scoring = 'accuracy',\n",
    "                       cv = StratifiedKFold(n_splits=10, shuffle=True, random_state=17))\n",
    "\n",
    "# training the model\n",
    "train_rand = clf_random.fit(X_train, y_train)\n",
    "train_grid = clf_grid.fit(X_train, y_train)\n",
    "\n",
    "# testing the model\n",
    "test_rand = clf_random.score(X_test, y_test)\n",
    "\n",
    "test_grid = clf_grid.score(X_test, y_test)"
   ]
  },
  {
   "cell_type": "code",
   "execution_count": null,
   "id": "913bee28",
   "metadata": {},
   "outputs": [],
   "source": [
    "# Make predictions for the test sets\n",
    "y_rand_test = clf_random.predict(X_test)\n",
    "y_grid_test = clf_grid.predict(X_test)\n",
    "\n",
    "# View accuracy scores\n",
    "rand_score = accuracy_score(y_test, y_rand_test)\n",
    "print(rand_score)\n",
    "\n",
    "grid_score = accuracy_score(y_test, y_grid_test)\n",
    "print(grid_score)"
   ]
  },
  {
   "cell_type": "code",
   "execution_count": null,
   "id": "5ec9e15e",
   "metadata": {},
   "outputs": [],
   "source": [
    "from sklearn.metrics import classification_report\n",
    "\n",
    "# View the classification report for test data and predictions for random search\n",
    "print(classification_report(y_test, y_rand_test))\n",
    "\n",
    "# View the classification report for test data and predictions for grid search\n",
    "print(classification_report(y_test, y_grid_test))"
   ]
  },
  {
   "cell_type": "markdown",
   "id": "1d68e93d",
   "metadata": {},
   "source": [
    "Hyperparameter Set C"
   ]
  },
  {
   "cell_type": "code",
   "execution_count": null,
   "id": "897a31e2",
   "metadata": {},
   "outputs": [],
   "source": [
    "params = { \n",
    "    'n_estimators': [200, 500],\n",
    "    'max_features': ['sqrt'],\n",
    "    'max_depth' : [4, 5, 6, 7, 8],\n",
    "    'criterion' :['gini'],\n",
    "    \"class_weight\": (None, \"balanced\"),\n",
    "    'min_samples_leaf': [14]\n",
    "}\n",
    "\n",
    "# standard RandomizedSearchCV for comparison\n",
    "clf_random = RandomizedSearchCV(estimator = RandomForestClassifier(), \n",
    "                                param_distributions = params, \n",
    "                                n_iter = 100, \n",
    "                                cv = StratifiedKFold(n_splits=10),\n",
    "                                verbose=2, random_state=42, n_jobs = -1)\n",
    "\n",
    "# modified GridSearchCV from Bertoli et al. 2021\n",
    "clf_grid = GridSearchCV(estimator = RandomForestClassifier(),\n",
    "                       param_grid = params,\n",
    "                       scoring = 'accuracy',\n",
    "                       cv = StratifiedKFold(n_splits=10, shuffle=True, random_state=17))\n",
    "\n",
    "# training the model\n",
    "train_rand = clf_random.fit(X_train, y_train)\n",
    "train_grid = clf_grid.fit(X_train, y_train)\n",
    "\n",
    "# testing the model\n",
    "test_rand = clf_random.score(X_test, y_test)\n",
    "\n",
    "test_grid = clf_grid.score(X_test, y_test)"
   ]
  },
  {
   "cell_type": "code",
   "execution_count": null,
   "id": "b75f08de",
   "metadata": {},
   "outputs": [],
   "source": [
    "from sklearn.metrics import classification_report\n",
    "\n",
    "# View the classification report for test data and predictions for random search\n",
    "print(classification_report(y_test, y_rand_test))\n",
    "\n",
    "# View the classification report for test data and predictions for grid search\n",
    "print(classification_report(y_test, y_grid_test))"
   ]
  },
  {
   "cell_type": "code",
   "execution_count": null,
   "id": "aeb4478b",
   "metadata": {},
   "outputs": [],
   "source": [
    "# Make predictions for the test sets\n",
    "y_rand_test = clf_random.predict(X_test)\n",
    "y_grid_test = clf_grid.predict(X_test)\n",
    "\n",
    "# View accuracy scores\n",
    "rand_score = accuracy_score(y_test, y_rand_test)\n",
    "print(rand_score)\n",
    "\n",
    "grid_score = accuracy_score(y_test, y_grid_test)\n",
    "print(grid_score)"
   ]
  },
  {
   "cell_type": "markdown",
   "id": "aef16d97",
   "metadata": {},
   "source": [
    "Hyperparameter Set D"
   ]
  },
  {
   "cell_type": "code",
   "execution_count": null,
   "id": "67470fe5",
   "metadata": {},
   "outputs": [],
   "source": [
    "params = { \n",
    "    'n_estimators': [200, 500],\n",
    "    'max_features': ['log2'],\n",
    "    'max_depth' : [4, 5, 6, 7, 8],\n",
    "    'criterion' :['gini'],\n",
    "    \"class_weight\": (None, \"balanced\"),\n",
    "    \"min_samples_leaf\": [14]\n",
    "}\n",
    "\n",
    "# standard RandomizedSearchCV for comparison\n",
    "clf_random = RandomizedSearchCV(estimator = RandomForestClassifier(), \n",
    "                                param_distributions = params, \n",
    "                                n_iter = 100, \n",
    "                                cv = StratifiedKFold(n_splits=10),\n",
    "                                verbose=2, random_state=42, n_jobs = -1)\n",
    "\n",
    "# modified GridSearchCV from Bertoli et al. 2021\n",
    "clf_grid = GridSearchCV(estimator = RandomForestClassifier(),\n",
    "                       param_grid = params,\n",
    "                       scoring = 'accuracy',\n",
    "                       cv = StratifiedKFold(n_splits=10, shuffle=True, random_state=17))\n",
    "\n",
    "# training the model\n",
    "train_rand = clf_random.fit(X_train, y_train)\n",
    "train_grid = clf_grid.fit(X_train, y_train)\n",
    "\n",
    "# testing the model\n",
    "test_rand = clf_random.score(X_test, y_test)\n",
    "\n",
    "test_grid = clf_grid.score(X_test, y_test)"
   ]
  },
  {
   "cell_type": "code",
   "execution_count": null,
   "id": "bab44f75",
   "metadata": {},
   "outputs": [],
   "source": [
    "# Make predictions for the test sets\n",
    "y_rand_test = clf_random.predict(X_test)\n",
    "y_grid_test = clf_grid.predict(X_test)\n",
    "\n",
    "# View accuracy scores\n",
    "rand_score = accuracy_score(y_test, y_rand_test)\n",
    "print(rand_score)\n",
    "\n",
    "grid_score = accuracy_score(y_test, y_grid_test)\n",
    "print(grid_score)"
   ]
  },
  {
   "cell_type": "code",
   "execution_count": null,
   "id": "002d1759",
   "metadata": {},
   "outputs": [],
   "source": [
    "from sklearn.metrics import classification_report\n",
    "\n",
    "# View the classification report for test data and predictions for random search\n",
    "print(classification_report(y_test, y_rand_test))\n",
    "\n",
    "# View the classification report for test data and predictions for grid search\n",
    "print(classification_report(y_test, y_grid_test))"
   ]
  }
 ],
 "metadata": {
  "kernelspec": {
   "display_name": "venv",
   "language": "python",
   "name": "venv"
  },
  "language_info": {
   "codemirror_mode": {
    "name": "ipython",
    "version": 3
   },
   "file_extension": ".py",
   "mimetype": "text/x-python",
   "name": "python",
   "nbconvert_exporter": "python",
   "pygments_lexer": "ipython3",
   "version": "3.11.1"
  }
 },
 "nbformat": 4,
 "nbformat_minor": 5
}
